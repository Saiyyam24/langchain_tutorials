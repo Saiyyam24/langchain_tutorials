{
 "cells": [
  {
   "cell_type": "code",
   "execution_count": 1,
   "id": "fd7377d7",
   "metadata": {},
   "outputs": [],
   "source": [
    "from dotenv import load_dotenv\n",
    "import os\n",
    "load_dotenv()\n",
    "\n",
    "gemini_api_key = os.getenv(\"Gemini_api_key\")"
   ]
  },
  {
   "cell_type": "code",
   "execution_count": 2,
   "id": "41747aec",
   "metadata": {},
   "outputs": [],
   "source": [
    "from langchain_google_genai import ChatGoogleGenerativeAI\n",
    "from langchain_core.tools import tool\n",
    "from langchain_core.messages import HumanMessage\n",
    "import requests"
   ]
  },
  {
   "cell_type": "code",
   "execution_count": 3,
   "id": "82fafe06",
   "metadata": {},
   "outputs": [],
   "source": [
    "# tool create \n",
    "\n",
    "@tool\n",
    "def multiply(a:int, b:int)->int:\n",
    "    \"\"\"Given 2 number a and b this tool return their prodeuct\"\"\"\n",
    "    return a*b"
   ]
  },
  {
   "cell_type": "code",
   "execution_count": 4,
   "id": "caec3292",
   "metadata": {},
   "outputs": [
    {
     "name": "stdout",
     "output_type": "stream",
     "text": [
      "12\n"
     ]
    }
   ],
   "source": [
    "print(multiply.invoke({'a':3,'b':4}))"
   ]
  },
  {
   "cell_type": "code",
   "execution_count": 5,
   "id": "2f29245b",
   "metadata": {},
   "outputs": [],
   "source": [
    "# tool bind\n",
    "llm = ChatGoogleGenerativeAI(model='gemini-2.0-flash',api_key=gemini_api_key)"
   ]
  },
  {
   "cell_type": "code",
   "execution_count": 20,
   "id": "1cfcc746",
   "metadata": {},
   "outputs": [],
   "source": [
    "query = HumanMessage('can you multiply 3 with 10')"
   ]
  },
  {
   "cell_type": "code",
   "execution_count": null,
   "id": "634fa7ed",
   "metadata": {},
   "outputs": [],
   "source": []
  },
  {
   "cell_type": "code",
   "execution_count": 49,
   "id": "16ba67bf",
   "metadata": {},
   "outputs": [],
   "source": [
    "messages=[query]"
   ]
  },
  {
   "cell_type": "code",
   "execution_count": 50,
   "id": "416cb50a",
   "metadata": {},
   "outputs": [
    {
     "data": {
      "text/plain": [
       "[HumanMessage(content='can you multiply 3 with 10', additional_kwargs={}, response_metadata={})]"
      ]
     },
     "execution_count": 50,
     "metadata": {},
     "output_type": "execute_result"
    }
   ],
   "source": [
    "messages"
   ]
  },
  {
   "cell_type": "code",
   "execution_count": 51,
   "id": "b7afbd68",
   "metadata": {},
   "outputs": [],
   "source": [
    "llm_with_tools = llm.bind_tools([multiply])"
   ]
  },
  {
   "cell_type": "code",
   "execution_count": null,
   "id": "82de29fa",
   "metadata": {},
   "outputs": [],
   "source": []
  },
  {
   "cell_type": "code",
   "execution_count": 52,
   "id": "75c2df66",
   "metadata": {},
   "outputs": [
    {
     "data": {
      "text/plain": [
       "AIMessage(content='', additional_kwargs={'function_call': {'name': 'multiply', 'arguments': '{\"a\": 3.0, \"b\": 10.0}'}}, response_metadata={'prompt_feedback': {'block_reason': 0, 'safety_ratings': []}, 'finish_reason': 'STOP', 'safety_ratings': []}, id='run--d03d282c-edc9-4aad-ba04-0beb20f5f602-0', tool_calls=[{'name': 'multiply', 'args': {'a': 3.0, 'b': 10.0}, 'id': '7a4ec437-294f-43d3-865a-192978ab92a3', 'type': 'tool_call'}], usage_metadata={'input_tokens': 30, 'output_tokens': 5, 'total_tokens': 35, 'input_token_details': {'cache_read': 0}})"
      ]
     },
     "execution_count": 52,
     "metadata": {},
     "output_type": "execute_result"
    }
   ],
   "source": [
    "result=llm_with_tools.invoke(messages)\n",
    "result"
   ]
  },
  {
   "cell_type": "code",
   "execution_count": 53,
   "id": "eacaf7e8",
   "metadata": {},
   "outputs": [],
   "source": [
    "messages.append(result)"
   ]
  },
  {
   "cell_type": "code",
   "execution_count": 54,
   "id": "23803d93",
   "metadata": {},
   "outputs": [
    {
     "data": {
      "text/plain": [
       "[HumanMessage(content='can you multiply 3 with 10', additional_kwargs={}, response_metadata={}),\n",
       " AIMessage(content='', additional_kwargs={'function_call': {'name': 'multiply', 'arguments': '{\"a\": 3.0, \"b\": 10.0}'}}, response_metadata={'prompt_feedback': {'block_reason': 0, 'safety_ratings': []}, 'finish_reason': 'STOP', 'safety_ratings': []}, id='run--d03d282c-edc9-4aad-ba04-0beb20f5f602-0', tool_calls=[{'name': 'multiply', 'args': {'a': 3.0, 'b': 10.0}, 'id': '7a4ec437-294f-43d3-865a-192978ab92a3', 'type': 'tool_call'}], usage_metadata={'input_tokens': 30, 'output_tokens': 5, 'total_tokens': 35, 'input_token_details': {'cache_read': 0}})]"
      ]
     },
     "execution_count": 54,
     "metadata": {},
     "output_type": "execute_result"
    }
   ],
   "source": [
    "messages"
   ]
  },
  {
   "cell_type": "code",
   "execution_count": 56,
   "id": "9e601bbd",
   "metadata": {},
   "outputs": [],
   "source": [
    "tool_result = multiply.invoke(result.tool_calls[0])"
   ]
  },
  {
   "cell_type": "code",
   "execution_count": 57,
   "id": "2dc701f7",
   "metadata": {},
   "outputs": [],
   "source": [
    "messages.append(tool_result)"
   ]
  },
  {
   "cell_type": "code",
   "execution_count": 58,
   "id": "774f40b9",
   "metadata": {},
   "outputs": [
    {
     "data": {
      "text/plain": [
       "[HumanMessage(content='can you multiply 3 with 10', additional_kwargs={}, response_metadata={}),\n",
       " AIMessage(content='', additional_kwargs={'function_call': {'name': 'multiply', 'arguments': '{\"a\": 3.0, \"b\": 10.0}'}}, response_metadata={'prompt_feedback': {'block_reason': 0, 'safety_ratings': []}, 'finish_reason': 'STOP', 'safety_ratings': []}, id='run--d03d282c-edc9-4aad-ba04-0beb20f5f602-0', tool_calls=[{'name': 'multiply', 'args': {'a': 3.0, 'b': 10.0}, 'id': '7a4ec437-294f-43d3-865a-192978ab92a3', 'type': 'tool_call'}], usage_metadata={'input_tokens': 30, 'output_tokens': 5, 'total_tokens': 35, 'input_token_details': {'cache_read': 0}}),\n",
       " ToolMessage(content='30', name='multiply', tool_call_id='7a4ec437-294f-43d3-865a-192978ab92a3')]"
      ]
     },
     "execution_count": 58,
     "metadata": {},
     "output_type": "execute_result"
    }
   ],
   "source": [
    "messages"
   ]
  },
  {
   "cell_type": "code",
   "execution_count": 59,
   "id": "7c2cbd2e",
   "metadata": {},
   "outputs": [
    {
     "data": {
      "text/plain": [
       "'The product of 3 and 10 is 30.'"
      ]
     },
     "execution_count": 59,
     "metadata": {},
     "output_type": "execute_result"
    }
   ],
   "source": [
    "llm_with_tools.invoke(messages).content"
   ]
  },
  {
   "cell_type": "code",
   "execution_count": 47,
   "id": "04204ca6",
   "metadata": {},
   "outputs": [
    {
     "name": "stdout",
     "output_type": "stream",
     "text": [
      "The product of 3 and 10 is 30.\n"
     ]
    }
   ],
   "source": [
    "from langchain_core.messages import AIMessage\n",
    "\n",
    "final_ai_msg = [m for m in messages if isinstance(m, AIMessage)][-1]\n",
    "\n",
    "print(final_ai_msg.content)  # e."
   ]
  },
  {
   "cell_type": "code",
   "execution_count": 48,
   "id": "252ba1e4",
   "metadata": {},
   "outputs": [],
   "source": [
    "messages.clear()"
   ]
  },
  {
   "cell_type": "markdown",
   "id": "16eddb65",
   "metadata": {},
   "source": [
    "## Currency conversion tool"
   ]
  },
  {
   "cell_type": "code",
   "execution_count": 166,
   "id": "8a111401",
   "metadata": {},
   "outputs": [],
   "source": [
    "from langchain_core.tools import InjectedToolArg\n",
    "from typing import Annotated\n",
    "\n",
    "@tool\n",
    "def get_conversion_factor(base_currency: str, target_currency: str) -> float:\n",
    "    \"\"\"the function fetches the currency conversion factor between a given base currency and target currency\"\"\"\n",
    "    url = f'https://v6.exchangerate-api.com/v6/8e96a032a642206bdff83fca/pair/{base_currency}/{target_currency}'\n",
    "    respnse = requests.get(url)\n",
    "    data =  respnse.json()\n",
    "    return data['conversion_rate']\n",
    "\n",
    "@tool\n",
    "def convert(base_currency_value: int, conversion_rate: Annotated[float,InjectedToolArg()]) -> float:\n",
    "    \"\"\"Convert amount given a rate.\"\"\"\n",
    "    return base_currency_value*conversion_rate"
   ]
  },
  {
   "cell_type": "code",
   "execution_count": 167,
   "id": "0aeaac06",
   "metadata": {},
   "outputs": [
    {
     "data": {
      "text/plain": [
       "88.784"
      ]
     },
     "execution_count": 167,
     "metadata": {},
     "output_type": "execute_result"
    }
   ],
   "source": [
    "get_conversion_factor.invoke({'base_currency':'USD','target_currency':'INR'})"
   ]
  },
  {
   "cell_type": "code",
   "execution_count": 168,
   "id": "cd57c273",
   "metadata": {},
   "outputs": [
    {
     "data": {
      "text/plain": [
       "887.84"
      ]
     },
     "execution_count": 168,
     "metadata": {},
     "output_type": "execute_result"
    }
   ],
   "source": [
    "convert.invoke({'base_currency_value':10,'conversion_rate':88.784})"
   ]
  },
  {
   "cell_type": "code",
   "execution_count": 169,
   "id": "277ccf73",
   "metadata": {},
   "outputs": [],
   "source": [
    "#  tool binding\n",
    "\n",
    "llm = ChatGoogleGenerativeAI(model='gemini-2.0-flash',api_key=gemini_api_key)\n"
   ]
  },
  {
   "cell_type": "code",
   "execution_count": 170,
   "id": "286e3299",
   "metadata": {},
   "outputs": [],
   "source": [
    "llm_with_tools = llm.bind_tools([get_conversion_factor,convert])"
   ]
  },
  {
   "cell_type": "code",
   "execution_count": 171,
   "id": "ad3e0943",
   "metadata": {},
   "outputs": [],
   "source": [
    "messages = [HumanMessage('What is the conversion factor between USD and INR,and based on that can you convert 10 inr to usd')]"
   ]
  },
  {
   "cell_type": "code",
   "execution_count": 172,
   "id": "cdbd9f7c",
   "metadata": {},
   "outputs": [
    {
     "data": {
      "text/plain": [
       "[HumanMessage(content='What is the conversion factor between USD and INR,and based on that can you convert 10 inr to usd', additional_kwargs={}, response_metadata={})]"
      ]
     },
     "execution_count": 172,
     "metadata": {},
     "output_type": "execute_result"
    }
   ],
   "source": [
    "messages"
   ]
  },
  {
   "cell_type": "code",
   "execution_count": 173,
   "id": "b5f2359e",
   "metadata": {},
   "outputs": [],
   "source": [
    "ai_message = llm_with_tools.invoke(messages)"
   ]
  },
  {
   "cell_type": "code",
   "execution_count": 174,
   "id": "9136d00d",
   "metadata": {},
   "outputs": [],
   "source": [
    "messages.append(ai_message)"
   ]
  },
  {
   "cell_type": "code",
   "execution_count": 175,
   "id": "ef9f8445",
   "metadata": {},
   "outputs": [
    {
     "data": {
      "text/plain": [
       "[{'name': 'get_conversion_factor',\n",
       "  'args': {'target_currency': 'INR', 'base_currency': 'USD'},\n",
       "  'id': '17a519b2-078a-4063-869c-b67efd03ecd2',\n",
       "  'type': 'tool_call'}]"
      ]
     },
     "execution_count": 175,
     "metadata": {},
     "output_type": "execute_result"
    }
   ],
   "source": [
    "ai_message.tool_calls"
   ]
  },
  {
   "cell_type": "code",
   "execution_count": 176,
   "id": "84357f5b",
   "metadata": {},
   "outputs": [],
   "source": [
    "import json\n",
    "for tool_call in ai_message.tool_calls:\n",
    "    # execute first tool and then get valiue of conversion rate\n",
    "    if tool_call['name']=='get_conversion_factor':\n",
    "       tool_message1 = get_conversion_factor.invoke(tool_call)\n",
    "        #    print(tool_message1)\n",
    "       conversion_rate = tool_message1.content\n",
    "       messages.append(tool_message1)\n",
    "       # second tool will be run from that conversion rate\n",
    "    if tool_call['name']=='convert':\n",
    "        # fetch current argument\n",
    "        tool_call['args']['conversion_rate']= conversion_rate\n",
    "        tool_message2 = convert.invoke(tool_call)\n",
    "        messages.append(tool_message2)\n"
   ]
  },
  {
   "cell_type": "code",
   "execution_count": 177,
   "id": "9802ef6f",
   "metadata": {},
   "outputs": [
    {
     "data": {
      "text/plain": [
       "'The conversion factor between USD and INR is 88.784. I cannot convert 10 INR to USD without knowing the inverse conversion factor or using the convert function with USD as the base currency. Would you like me to find the conversion factor between INR and USD?'"
      ]
     },
     "execution_count": 177,
     "metadata": {},
     "output_type": "execute_result"
    }
   ],
   "source": [
    "llm_with_tools.invoke(messages).content"
   ]
  },
  {
   "cell_type": "code",
   "execution_count": 179,
   "id": "7eab7861",
   "metadata": {},
   "outputs": [
    {
     "name": "stdout",
     "output_type": "stream",
     "text": [
      "[{'name': 'get_conversion_factor', 'args': {'target_currency': 'INR', 'base_currency': 'USD'}, 'id': '0416ba5a-bfa0-4564-8d55-045df8f42de8', 'type': 'tool_call'}]\n"
     ]
    }
   ],
   "source": [
    "messages = [HumanMessage(\n",
    "    \"Use the get_conversion_factor tool to fetch USD → INR rate, \"\n",
    "    \"then use convert tool to calculate 10 USD in INR.\"\n",
    ")]\n",
    "ai_message = llm_with_tools.invoke(messages)\n",
    "print(ai_message.tool_calls)\n"
   ]
  },
  {
   "cell_type": "code",
   "execution_count": null,
   "id": "410841d3",
   "metadata": {},
   "outputs": [],
   "source": []
  }
 ],
 "metadata": {
  "kernelspec": {
   "display_name": ".lan (3.12.5)",
   "language": "python",
   "name": "python3"
  },
  "language_info": {
   "codemirror_mode": {
    "name": "ipython",
    "version": 3
   },
   "file_extension": ".py",
   "mimetype": "text/x-python",
   "name": "python",
   "nbconvert_exporter": "python",
   "pygments_lexer": "ipython3",
   "version": "3.12.5"
  }
 },
 "nbformat": 4,
 "nbformat_minor": 5
}
