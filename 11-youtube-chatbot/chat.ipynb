{
 "cells": [
  {
   "cell_type": "code",
   "execution_count": 1,
   "id": "164ddde0",
   "metadata": {},
   "outputs": [
    {
     "name": "stderr",
     "output_type": "stream",
     "text": [
      "d:\\study\\Langchain\\.lan\\Lib\\site-packages\\tqdm\\auto.py:21: TqdmWarning: IProgress not found. Please update jupyter and ipywidgets. See https://ipywidgets.readthedocs.io/en/stable/user_install.html\n",
      "  from .autonotebook import tqdm as notebook_tqdm\n"
     ]
    }
   ],
   "source": [
    "import streamlit as st\n",
    "from langchain_google_genai import ChatGoogleGenerativeAI\n",
    "from langchain_google_genai import GoogleGenerativeAIEmbeddings\n",
    "from langchain_community.document_loaders import YoutubeLoader\n",
    "import os\n",
    "from dotenv import load_dotenv\n",
    "from youtube_transcript_api import YouTubeTranscriptApi\n",
    "from langchain.text_splitter import RecursiveCharacterTextSplitter\n",
    "from langchain_community.vectorstores import FAISS\n"
   ]
  },
  {
   "cell_type": "code",
   "execution_count": 2,
   "id": "719e3883",
   "metadata": {},
   "outputs": [],
   "source": [
    "load_dotenv()\n",
    "gemini_api_key = os.getenv('Gemini_api_key')\n",
    "ytt_api = YouTubeTranscriptApi()"
   ]
  },
  {
   "cell_type": "code",
   "execution_count": 3,
   "id": "c4586549",
   "metadata": {},
   "outputs": [],
   "source": [
    "embedding = GoogleGenerativeAIEmbeddings(model='models/text-embedding-004',\n",
    "                                         google_api_key=gemini_api_key)\n",
    "\n",
    "model = ChatGoogleGenerativeAI(model='gemini-2.0-flash',\n",
    "                               api_key=gemini_api_key)"
   ]
  },
  {
   "cell_type": "code",
   "execution_count": 4,
   "id": "7a586b07",
   "metadata": {},
   "outputs": [],
   "source": [
    "video_id = 'o50N3-OaGdM'\n",
    "result = ytt_api.fetch(video_id,languages=['en'])\n",
    "transcript = \"\".join(chunk.text for chunk in result)\n"
   ]
  },
  {
   "cell_type": "code",
   "execution_count": 10,
   "id": "b7758b33",
   "metadata": {},
   "outputs": [
    {
     "data": {
      "text/plain": [
       "\"But leopards are the most versatile ofall the big cats. Adept at finding coverin the most unpromising[Music][Music]places. The steep walls of the gully arenow her cover.for anambush. The male puku is close enough,but he's too big totackle. She needs to slip past himwithout being seen.If he spots her, he'll blow her cover.[Music]Slowly doesit. To succeed here, she needs to findprey grazing close to theedge or better still in the gullyitself.Frustration. Success would have savedoff hunger for a week.[Music]But while there's prey around, there's[Music]hope. Peeking over the top is a risk,but it's the quickest way to find a newtarget.[Music][Music][Music][Applause]A burst of speed of 65 kilometers anhour and it's all over in less than 6seconds. Except it[Music]isn't. Dazed and disorientated, theimpala makes a miraculous escape.Somewhere along this seemingly barrenstretch of sand, there isfood in great[Music]quantity. Capefurs. There are around 10,000 of themhere.Adult seals are large andstrong, but their pups are neither.[Music]The youngsters are closely guarded bytheirmothers. A hyena, however, knows to bepatient. Sooner or later, seal mothersmust return to the ocean to cool off.A single seal pup could feed a hyena andher family fordays. But finding food is only half the[Music]battle. It now has to be carried[Music]back. A jackal is here,too. And it's notalone. If a hyena loses her kill, she'llhave nothing with which to feed hercubs.The jackals won't follow her very farfrom thecoast. It's too hot for them in thedesert interior.Only by making these long journeys canbrown hyenas manage to survive in themiddle of theNamib. In just 3 weeks, half a millioncalves are born on these ashriplains. That's 24,000 aday. A,000 an hour.[Music]Calves stand up within a few minutes ofbeing[Music]born, though some need a little moretime to find their feet.[Applause][Music][Applause][Music]But a mother won't let her calf suckleuntil it's mastered a few physicalskills,walking,trotting, and running.[Music]Wilderbeast calves must run if they'reto stay alive.[Music]For these planes also support thegreatest assembly of hunters on the[Music]planet. Each species has its own specialhuntingtechnique, but all have the same[Music]aim. to make the most of this briefsuper abundance of[Music][Music]life. Heat. Heat.[Applause][Music]Only one in 10 wilderbeast calves willsurvive toadulthood. But that is enough tomaintain the million strong herd ofwilderbeast.and the planet's highest density ofpredators. And many animals here choosethe simplest option ofall, staying hidden all day and onlyventuring out in the cool of thenight. As darkness falls, animals appearfrom seemingly[Music]nowhere. And among them,inevitably are hunters.[Music]One of the most voracious nocturnalpredators is also one of the hardest tosee. This mysterious creature hardlyever appears on the surface of thedunes. But there are signs on the sandthat can give it away.It lives only here where the sand grainsare so perfectly dry and polished thatthey flow almost likewater. It's no bigger than a pingpongball.[Music]a goldenmole. It's totallyblind, but there's nothing to seeundergroundanyway. Instead, it has superbhearing. Its entire head acts as anamplifier that picks up vibrationsthrough the sand. So to locate prey onthe surface of the dune, it hasparadoxically to thrust its face intothedune.Termites not easy to catch when you're[Music]blind. Far better to go into stealthmode. Once below the sand, it can detectthe slightestmovement, allowing it to strike withpinpoint accuracy.Well, most of the[Music]time. It can travel a kilometer a nightin search of itsdinner. And right now, it has justdetected its main course.Little wonder it's sometimes called theshark of thedunes. The lions are surrounded bywilderbeast on their annualmigration. A quarter ton bull would makea good meal for all 10 of the pride.But even though charm is an experiencedhunter, most attempts end in failure.Charm uses her hind legs to knock thewilderbeast off balance.[Music]Wow. Heat.[Music][Music]The smallest cubs won't be able to catchfood for themselves for another 12months. Their evergrowing appetites meanthat Charm and Sienna have to huntaround theclock. The females are often forced tohead outalone. Tonight, it's Sienna's turn.[Music]Sunrise. Sienna is seriouslyinjured. She's too weak to move.A lone lion is always at risk of attackby buffalo,hyenas, even other lion prides.[Music][Music]It'sevening and Siona hasn't returned to her[Music]family. Now everything depends on charm.Heat. Heat.[Music]Comeon. Careful.[Music]For many years, Blacktip has lived inpeaceful coexistence with hermother, each with enough territory tosurvive.five. But Blacktip's pack has grownhuge. It's now 30strong. For the first time, she needsmore territory if she's to feed hergrowing family.Normally, a daughter would not invadeher mother's territory.However, with hyenas ruling to thesouth and humans having taken thehunting lands to thewest, Blacktip has nochoice but to turn her sightseast, towards her mother'slands, where after a morning's hunt,Tate and her back are resting.[Music]Blacktip's pack outnumbers her mothersby more than 2 to one.[Music][Music][Music]An ambush.Against these odds, Tate ispowerless. Retreat is the only option.[Music]This has now become Black Tips[Music]territory. A brief but bloodybattle. Tate and her pack are nowhomeless.She retreatseastwards. But this is dangerouscountry. The Namib Desert, one of themost exposed places onEarth. As the sun climbs high, everybodytakes cover from the extreme heat.[Music]Everybodyexcept the hot rodant. As others takerefuge, their day is just[Music]beginning. Cleaning out the nest.[Music]The sand can reach a scorching 70centrade. The ants long legs raise theirbodies above the surface where it's 10°cooler. But if they stand still, theywill fry.They must keep moving or risk the samefate as their quarry. The creatures thathave collapsed from heatstroke too deeply buried but a goodplace to cool[Music]off. Foraging decisions must befast. Toobig. Perfect.back to the nest before they alsodie. But they've strayed into aminefield.[Music]Each of these strange cone-shaped pitsis a deathtrap with a brutal predator at itscenter. Here lie ant lion lvi, tinyambush predators with venomfilledpinces.[Music]Some ants manage to escape, but the antlion has othertricks. Flinging sand into the air, itcreates an avalanche.In this cone of death, the walls are soangled that the sand slips beneath theant's feet.As boulders rain from the sky, escapeseems almost[Music]impossible. Phew.[Music]Somewhere along this seemingly barrenstretch ofsand, there isfood in great[Music]quantity. Capefurs. There are around 10,000 of themhere.Adult seals are large andstrong, but their pups are neither.The youngsters are closely guarded bytheirmothers. The hyena, however, knows to bepatient. Sooner or later, seal mothersmust return to the ocean to cool off.A single scene pup could feed a hyenaand her family fordays. But finding food is only half the[Music]battle. It now has to be carried back.[Music]A jackal is here,too. And it's notalone. If a hyena loses her kill, she'llhave nothing with which to feed hercubs.The jackals won't follow her very farfrom thecoast. It's too hot for them in thedesert interior.Only by making these long journeys canbrown hyenas manage to survive in themiddle of theNamib, a gianttortoise. These creatures can float andlive without food or fresh water forlong periods of time.This isolated atal is the perfectrefuge. Their only enemy is thesun. Without shade, a tortoise risksbeing boiled in his shell.So after feeding in the cool of themorning and before the sun becomes toocrushingly hot they have to findcover all of[Music]them. There is very little vegetationbut caves in the coral rock can providethe shade they so badly need.[Music]He's nearlythere. All that is left is a whiteknuckle ride to thebottom. And he'sin. Thousands of others are still out inthe sun.This tree could shade a couple ofhundred if they packed tight.[Music]It's bumperto-bumper[Music]parking. Within an hour or so, all mustfind shade of some sort if they're tosurvive.[Music][Music][Music][Applause]safe.But the future for Aldabra's tortoisesis far fromcertain. The climate is changing. Sealevels are rising. And Aldabra'stortoises may soon have to find a newrefuge ordrown. Lions will normally avoid huntingin suchheat, but they're also opportunists.[Music]The lions will need to bring him downquickly before they overheat.[Music]Wow.[Music]Even away from the herd, a bull is aformidableopponent. He could gore and kill a lion.[Music][Music]Heat.[Music]Heat.[Music]Close to overheating, they finallysucceed in bringing him to the ground.[Music][Music]But the massive bull is not giving[Music]up. Against the odds and the full weightof the lions, he regains hisfeet. And it is now that the tablesturn. The lions are exhausted.After a 20inut struggle, only the bullhas the energy to finish the fight.[Music]In such exposed and extremeconditions, the challenge for predatorsand their prey is at its mostintense. The temperature has reached50°.Still, Black Kip pushes her pack on in[Music]pursuit. They're closing in just akilometer behind Tate.[Music]But finally the heat is just too[Music]much. Blacktip is forced to call a halt.But danger isapproaching. Heat. Heat.The pack hasscattered and now the lions will try topick off the puppies.There's only one adult with thepups. That won't be enough to save them.But this might[Music]Buffaloos and lions are always inconflict.[Music]To charge in alone is veryunusual, but it certainly saved the[Music]pups. As they mature, young males beginto explore the boundaries of the pride'sterritory. Red has ventured out alone.[Music][Music]and blundered straight into the middleof the hyena clam.[Music]He's trapped by over 20 of them.[Music]The pack tries to wear himdown. This number of hyenas could killhim.[Music][Music]It's impossible to fight them all atonce.[Music][Music]He can't keep them bay for much longer.He's tiring[Music]fast. His ally Tatu has heard thecommotion.[Music][Music]Now the odds havechanged. Even for 20 hyenas, a pair ofmale lions is too much to take[Music]on. Red is lucky.[Music]Tatu has saved his cousin's[Music]life. Every lake and river has aresident population ofhippos. They too are social creatures,but they are also territorial.Spy Hippo is going where few others daretogo. He needs to becautious.[Music]His subjects are notoriouslybadteered and they could beanywhere. It's never a good idea to geton their wrong side.Spy hippo has been given awarning. He must avoid suddenmovements. As he gets closer, earwiggling showsconfidence. Facing one of Africa's mostdangerous animals, Spy Hippo must holdhisground. The pod is made up of femaleslooked over by a singlemale. Fortunately, females are lessaggressive. Spy Hippo is alreadycapturing some of the closest views thathave ever been seen.But hippo spend much of their time belowthesurface. As the hipposdive, so must SpyHippo. He mimics theirmovements. Rather than swim, hippos walkunderwater.[Music]Through the merc spy hippo glimpses anextraordinary[Music]sight. Fish are shadowing the hippo'severy move. These arebarbs. They usually feed on theriverbed, but when the hippos appear,they shaw around them.As spy hippo moves closer, it's clearthat their skin is a maze of cuts andscratches. These fight marks easilybecome infected and parasites can also[Music]invade. This is where the fish comein. Together they set up an underwaterclinic with the hippos as willingpatients. The barbs may be skinspecialists, but they'll try a bit ofdental hygiene, too.[Music]After having a full body treatment, thehippos seem to enter atrance. She's the biggest mircat they'veever seen and requires seriousexamination.[Applause]She's been made to smell like thecolony, so this reassures[Laughter]them. Each day, different volunteers setup a crash, giving all the child supporta mother could wishfor. They share roles, including sentryduty.It demands concentration and it's easyto losefocus. And sometimes it's good to havesomeone watching yourback. Being a sentry is a risky businessas they are easy targets forpredators. But with young pups toprotect, they take greater risks byclimbing higher. Here they can seepredators earlier but are vulnerable tobirds ofprey. Their self-sacrifice is about tobe[Music]tested. But this is no ordinary cobra.It's a spycobra. With no regard for her ownsafety, she prepares to face the snake.[Music][Applause]She reacts as she would to the realthing, bravely protecting the colonywith no thought for[Music]herself.Her aim is to harass the snake intoleaving. But with spy snake holding itsground, the mircat calls forreinforcements. This is where fraternitycomes into its own.[Music]An intimidating wall of mircats face upto spy[Music]cobra. They push their luck as far asthey dare, golding the snake to strike.[Music]Real snakes tie are easily, so it's amatter of wearing it[Music]down. But one mircat senses there'ssomething different about thisserpent. It may look and move like areal snake, but it shows no sign ofleaving.Spy snake has been well and trulyrumbled. Satisfied he's harmless, themircats go back to what they enjoybest, relaxing amongfriends. To help with the filming, SpyEgret has backup.This is Dung Cam, a camera based on apile of elephant poo. It even smells thepart. It's designed to film on themove. It zoom lenses can capture theelephant's everymove. That's not all. It can release ateam of spy dung balls to litter thesavannah with yet more cameras.One dung ball is radiocontrolled and cantravel without any visible movingparts. With the action covered fromevery angle, it's time to see what thiselephant family gets up to.The babies must learn the rules ofbehavior at an earlyage. Wrestling older siblings is afavoritepastime. They learn their own strengthand crucially how to play nicely witheach other.It's the older elephants who make surethey don't cross theline. It takes a few years beforethey're big enough to do realdamage. But as they get older, they needto be reigned in. Those who overstep themark soon knowit. The rules are strict for everyonewhen the family is on the move. Tofollow them, Spy Egret and Dunkham joinforces. For their own safety, the babiesmust stay next to their mothers in thecenter of the[Music]herd. The elephants are heading to the[Music]swamp, a place to cool off as the dayheats up.But the mud can be treacherous andbabies must only enter with theirmums. But this little one seems to haveforgotten therules. Chasing egrets isirresistible. But as the herd enter theswamp, the baby is being left behind.Realizing his predicament, he looks forhis mother and thinks he's foundher. He tags along as the group headinto theswamp, but he's following the wrong[Applause]elephant. With his mother nowhere to beseen, he's lost in a confusion of trunksandlegs. The elephants head into the swampwithout him.The baby is now alone and afraid[Music]while his herd appear to have forgottenhim. He can smell that his mother is outthere somewhere.[Music]But entering the swamp alone could bedeadly for one so[Music]small. He's really starting to panicnow.His mother isinexperienced. She's only just realizedher[Music]mistake. Both will have learned fromwhat[Music]happened. He won't misbehave while thefamily are traveling again.[Music]\""
      ]
     },
     "execution_count": 10,
     "metadata": {},
     "output_type": "execute_result"
    }
   ],
   "source": [
    "transcript"
   ]
  },
  {
   "cell_type": "code",
   "execution_count": 5,
   "id": "9cb198b9",
   "metadata": {},
   "outputs": [],
   "source": [
    "splitter = RecursiveCharacterTextSplitter(chunk_size=1000,\n",
    "                                          chunk_overlap=200\n",
    "                                        )\n"
   ]
  },
  {
   "cell_type": "code",
   "execution_count": 26,
   "id": "c15a5ccd",
   "metadata": {},
   "outputs": [
    {
     "data": {
      "text/plain": [
       "[\"But leopards are the most versatile ofall the big cats. Adept at finding coverin the most unpromising[Music][Music]places. The steep walls of the gully arenow her cover.for anambush. The male puku is close enough,but he's too big totackle. She needs to slip past himwithout being seen.If he spots her, he'll blow her cover.[Music]Slowly doesit. To succeed here, she needs to findprey grazing close to theedge or better still in the gullyitself.Frustration. Success would have savedoff hunger for a week.[Music]But while there's prey around, there's[Music]hope. Peeking over the top is a risk,but it's the quickest way to find a newtarget.[Music][Music][Music][Applause]A burst of speed of 65 kilometers anhour and it's all over in less than 6seconds. Except it[Music]isn't. Dazed and disorientated, theimpala makes a miraculous escape.Somewhere along this seemingly barrenstretch of sand, there isfood in great[Music]quantity. Capefurs. There are around 10,000 of themhere.Adult seals are large\",\n",
       " \"theimpala makes a miraculous escape.Somewhere along this seemingly barrenstretch of sand, there isfood in great[Music]quantity. Capefurs. There are around 10,000 of themhere.Adult seals are large andstrong, but their pups are neither.[Music]The youngsters are closely guarded bytheirmothers. A hyena, however, knows to bepatient. Sooner or later, seal mothersmust return to the ocean to cool off.A single seal pup could feed a hyena andher family fordays. But finding food is only half the[Music]battle. It now has to be carried[Music]back. A jackal is here,too. And it's notalone. If a hyena loses her kill, she'llhave nothing with which to feed hercubs.The jackals won't follow her very farfrom thecoast. It's too hot for them in thedesert interior.Only by making these long journeys canbrown hyenas manage to survive in themiddle of theNamib. In just 3 weeks, half a millioncalves are born on these ashriplains. That's 24,000 aday. A,000 an hour.[Music]Calves stand up within a few minutes\",\n",
       " \"hyenas manage to survive in themiddle of theNamib. In just 3 weeks, half a millioncalves are born on these ashriplains. That's 24,000 aday. A,000 an hour.[Music]Calves stand up within a few minutes ofbeing[Music]born, though some need a little moretime to find their feet.[Applause][Music][Applause][Music]But a mother won't let her calf suckleuntil it's mastered a few physicalskills,walking,trotting, and running.[Music]Wilderbeast calves must run if they'reto stay alive.[Music]For these planes also support thegreatest assembly of hunters on the[Music]planet. Each species has its own specialhuntingtechnique, but all have the same[Music]aim. to make the most of this briefsuper abundance of[Music][Music]life. Heat. Heat.[Applause][Music]Only one in 10 wilderbeast calves willsurvive toadulthood. But that is enough tomaintain the million strong herd ofwilderbeast.and the planet's highest density ofpredators. And many animals here choosethe simplest option ofall, staying hidden all day and\",\n",
       " \"But that is enough tomaintain the million strong herd ofwilderbeast.and the planet's highest density ofpredators. And many animals here choosethe simplest option ofall, staying hidden all day and onlyventuring out in the cool of thenight. As darkness falls, animals appearfrom seemingly[Music]nowhere. And among them,inevitably are hunters.[Music]One of the most voracious nocturnalpredators is also one of the hardest tosee. This mysterious creature hardlyever appears on the surface of thedunes. But there are signs on the sandthat can give it away.It lives only here where the sand grainsare so perfectly dry and polished thatthey flow almost likewater. It's no bigger than a pingpongball.[Music]a goldenmole. It's totallyblind, but there's nothing to seeundergroundanyway. Instead, it has superbhearing. Its entire head acts as anamplifier that picks up vibrationsthrough the sand. So to locate prey onthe surface of the dune, it hasparadoxically to thrust its face intothedune.Termites not easy\",\n",
       " \"Its entire head acts as anamplifier that picks up vibrationsthrough the sand. So to locate prey onthe surface of the dune, it hasparadoxically to thrust its face intothedune.Termites not easy to catch when you're[Music]blind. Far better to go into stealthmode. Once below the sand, it can detectthe slightestmovement, allowing it to strike withpinpoint accuracy.Well, most of the[Music]time. It can travel a kilometer a nightin search of itsdinner. And right now, it has justdetected its main course.Little wonder it's sometimes called theshark of thedunes. The lions are surrounded bywilderbeast on their annualmigration. A quarter ton bull would makea good meal for all 10 of the pride.But even though charm is an experiencedhunter, most attempts end in failure.Charm uses her hind legs to knock thewilderbeast off balance.[Music]Wow. Heat.[Music][Music]The smallest cubs won't be able to catchfood for themselves for another 12months. Their evergrowing appetites meanthat Charm and Sienna have to\",\n",
       " \"off balance.[Music]Wow. Heat.[Music][Music]The smallest cubs won't be able to catchfood for themselves for another 12months. Their evergrowing appetites meanthat Charm and Sienna have to huntaround theclock. The females are often forced tohead outalone. Tonight, it's Sienna's turn.[Music]Sunrise. Sienna is seriouslyinjured. She's too weak to move.A lone lion is always at risk of attackby buffalo,hyenas, even other lion prides.[Music][Music]It'sevening and Siona hasn't returned to her[Music]family. Now everything depends on charm.Heat. Heat.[Music]Comeon. Careful.[Music]For many years, Blacktip has lived inpeaceful coexistence with hermother, each with enough territory tosurvive.five. But Blacktip's pack has grownhuge. It's now 30strong. For the first time, she needsmore territory if she's to feed hergrowing family.Normally, a daughter would not invadeher mother's territory.However, with hyenas ruling to thesouth and humans having taken thehunting lands to thewest, Blacktip has\",\n",
       " \"she's to feed hergrowing family.Normally, a daughter would not invadeher mother's territory.However, with hyenas ruling to thesouth and humans having taken thehunting lands to thewest, Blacktip has nochoice but to turn her sightseast, towards her mother'slands, where after a morning's hunt,Tate and her back are resting.[Music]Blacktip's pack outnumbers her mothersby more than 2 to one.[Music][Music][Music]An ambush.Against these odds, Tate ispowerless. Retreat is the only option.[Music]This has now become Black Tips[Music]territory. A brief but bloodybattle. Tate and her pack are nowhomeless.She retreatseastwards. But this is dangerouscountry. The Namib Desert, one of themost exposed places onEarth. As the sun climbs high, everybodytakes cover from the extreme heat.[Music]Everybodyexcept the hot rodant. As others takerefuge, their day is just[Music]beginning. Cleaning out the nest.[Music]The sand can reach a scorching 70centrade. The ants long legs raise theirbodies above the surface\",\n",
       " \"the hot rodant. As others takerefuge, their day is just[Music]beginning. Cleaning out the nest.[Music]The sand can reach a scorching 70centrade. The ants long legs raise theirbodies above the surface where it's 10°cooler. But if they stand still, theywill fry.They must keep moving or risk the samefate as their quarry. The creatures thathave collapsed from heatstroke too deeply buried but a goodplace to cool[Music]off. Foraging decisions must befast. Toobig. Perfect.back to the nest before they alsodie. But they've strayed into aminefield.[Music]Each of these strange cone-shaped pitsis a deathtrap with a brutal predator at itscenter. Here lie ant lion lvi, tinyambush predators with venomfilledpinces.[Music]Some ants manage to escape, but the antlion has othertricks. Flinging sand into the air, itcreates an avalanche.In this cone of death, the walls are soangled that the sand slips beneath theant's feet.As boulders rain from the sky, escapeseems almost[Music]impossible.\",\n",
       " \"sand into the air, itcreates an avalanche.In this cone of death, the walls are soangled that the sand slips beneath theant's feet.As boulders rain from the sky, escapeseems almost[Music]impossible. Phew.[Music]Somewhere along this seemingly barrenstretch ofsand, there isfood in great[Music]quantity. Capefurs. There are around 10,000 of themhere.Adult seals are large andstrong, but their pups are neither.The youngsters are closely guarded bytheirmothers. The hyena, however, knows to bepatient. Sooner or later, seal mothersmust return to the ocean to cool off.A single scene pup could feed a hyenaand her family fordays. But finding food is only half the[Music]battle. It now has to be carried back.[Music]A jackal is here,too. And it's notalone. If a hyena loses her kill, she'llhave nothing with which to feed hercubs.The jackals won't follow her very farfrom thecoast. It's too hot for them in thedesert interior.Only by making these long journeys canbrown hyenas manage to survive in\",\n",
       " \"with which to feed hercubs.The jackals won't follow her very farfrom thecoast. It's too hot for them in thedesert interior.Only by making these long journeys canbrown hyenas manage to survive in themiddle of theNamib, a gianttortoise. These creatures can float andlive without food or fresh water forlong periods of time.This isolated atal is the perfectrefuge. Their only enemy is thesun. Without shade, a tortoise risksbeing boiled in his shell.So after feeding in the cool of themorning and before the sun becomes toocrushingly hot they have to findcover all of[Music]them. There is very little vegetationbut caves in the coral rock can providethe shade they so badly need.[Music]He's nearlythere. All that is left is a whiteknuckle ride to thebottom. And he'sin. Thousands of others are still out inthe sun.This tree could shade a couple ofhundred if they packed tight.[Music]It's bumperto-bumper[Music]parking. Within an hour or so, all mustfind shade of some sort if they're\",\n",
       " \"are still out inthe sun.This tree could shade a couple ofhundred if they packed tight.[Music]It's bumperto-bumper[Music]parking. Within an hour or so, all mustfind shade of some sort if they're tosurvive.[Music][Music][Music][Applause]safe.But the future for Aldabra's tortoisesis far fromcertain. The climate is changing. Sealevels are rising. And Aldabra'stortoises may soon have to find a newrefuge ordrown. Lions will normally avoid huntingin suchheat, but they're also opportunists.[Music]The lions will need to bring him downquickly before they overheat.[Music]Wow.[Music]Even away from the herd, a bull is aformidableopponent. He could gore and kill a lion.[Music][Music]Heat.[Music]Heat.[Music]Close to overheating, they finallysucceed in bringing him to the ground.[Music][Music]But the massive bull is not giving[Music]up. Against the odds and the full weightof the lions, he regains hisfeet. And it is now that the tablesturn. The lions are exhausted.After a 20inut struggle, only the\",\n",
       " \"massive bull is not giving[Music]up. Against the odds and the full weightof the lions, he regains hisfeet. And it is now that the tablesturn. The lions are exhausted.After a 20inut struggle, only the bullhas the energy to finish the fight.[Music]In such exposed and extremeconditions, the challenge for predatorsand their prey is at its mostintense. The temperature has reached50°.Still, Black Kip pushes her pack on in[Music]pursuit. They're closing in just akilometer behind Tate.[Music]But finally the heat is just too[Music]much. Blacktip is forced to call a halt.But danger isapproaching. Heat. Heat.The pack hasscattered and now the lions will try topick off the puppies.There's only one adult with thepups. That won't be enough to save them.But this might[Music]Buffaloos and lions are always inconflict.[Music]To charge in alone is veryunusual, but it certainly saved the[Music]pups. As they mature, young males beginto explore the boundaries of the pride'sterritory. Red has ventured out\",\n",
       " \"inconflict.[Music]To charge in alone is veryunusual, but it certainly saved the[Music]pups. As they mature, young males beginto explore the boundaries of the pride'sterritory. Red has ventured out alone.[Music][Music]and blundered straight into the middleof the hyena clam.[Music]He's trapped by over 20 of them.[Music]The pack tries to wear himdown. This number of hyenas could killhim.[Music][Music]It's impossible to fight them all atonce.[Music][Music]He can't keep them bay for much longer.He's tiring[Music]fast. His ally Tatu has heard thecommotion.[Music][Music]Now the odds havechanged. Even for 20 hyenas, a pair ofmale lions is too much to take[Music]on. Red is lucky.[Music]Tatu has saved his cousin's[Music]life. Every lake and river has aresident population ofhippos. They too are social creatures,but they are also territorial.Spy Hippo is going where few others daretogo. He needs to becautious.[Music]His subjects are notoriouslybadteered and they could beanywhere. It's never a\",\n",
       " \"creatures,but they are also territorial.Spy Hippo is going where few others daretogo. He needs to becautious.[Music]His subjects are notoriouslybadteered and they could beanywhere. It's never a good idea to geton their wrong side.Spy hippo has been given awarning. He must avoid suddenmovements. As he gets closer, earwiggling showsconfidence. Facing one of Africa's mostdangerous animals, Spy Hippo must holdhisground. The pod is made up of femaleslooked over by a singlemale. Fortunately, females are lessaggressive. Spy Hippo is alreadycapturing some of the closest views thathave ever been seen.But hippo spend much of their time belowthesurface. As the hipposdive, so must SpyHippo. He mimics theirmovements. Rather than swim, hippos walkunderwater.[Music]Through the merc spy hippo glimpses anextraordinary[Music]sight. Fish are shadowing the hippo'severy move. These arebarbs. They usually feed on theriverbed, but when the hippos appear,they shaw around them.As spy hippo moves closer, it's\",\n",
       " \"Fish are shadowing the hippo'severy move. These arebarbs. They usually feed on theriverbed, but when the hippos appear,they shaw around them.As spy hippo moves closer, it's clearthat their skin is a maze of cuts andscratches. These fight marks easilybecome infected and parasites can also[Music]invade. This is where the fish comein. Together they set up an underwaterclinic with the hippos as willingpatients. The barbs may be skinspecialists, but they'll try a bit ofdental hygiene, too.[Music]After having a full body treatment, thehippos seem to enter atrance. She's the biggest mircat they'veever seen and requires seriousexamination.[Applause]She's been made to smell like thecolony, so this reassures[Laughter]them. Each day, different volunteers setup a crash, giving all the child supporta mother could wishfor. They share roles, including sentryduty.It demands concentration and it's easyto losefocus. And sometimes it's good to havesomeone watching yourback. Being a sentry is a risky\",\n",
       " \"mother could wishfor. They share roles, including sentryduty.It demands concentration and it's easyto losefocus. And sometimes it's good to havesomeone watching yourback. Being a sentry is a risky businessas they are easy targets forpredators. But with young pups toprotect, they take greater risks byclimbing higher. Here they can seepredators earlier but are vulnerable tobirds ofprey. Their self-sacrifice is about tobe[Music]tested. But this is no ordinary cobra.It's a spycobra. With no regard for her ownsafety, she prepares to face the snake.[Music][Applause]She reacts as she would to the realthing, bravely protecting the colonywith no thought for[Music]herself.Her aim is to harass the snake intoleaving. But with spy snake holding itsground, the mircat calls forreinforcements. This is where fraternitycomes into its own.[Music]An intimidating wall of mircats face upto spy[Music]cobra. They push their luck as far asthey dare, golding the snake to strike.[Music]Real snakes tie are\",\n",
       " \"is where fraternitycomes into its own.[Music]An intimidating wall of mircats face upto spy[Music]cobra. They push their luck as far asthey dare, golding the snake to strike.[Music]Real snakes tie are easily, so it's amatter of wearing it[Music]down. But one mircat senses there'ssomething different about thisserpent. It may look and move like areal snake, but it shows no sign ofleaving.Spy snake has been well and trulyrumbled. Satisfied he's harmless, themircats go back to what they enjoybest, relaxing amongfriends. To help with the filming, SpyEgret has backup.This is Dung Cam, a camera based on apile of elephant poo. It even smells thepart. It's designed to film on themove. It zoom lenses can capture theelephant's everymove. That's not all. It can release ateam of spy dung balls to litter thesavannah with yet more cameras.One dung ball is radiocontrolled and cantravel without any visible movingparts. With the action covered fromevery angle, it's time to see what thiselephant family\",\n",
       " \"thesavannah with yet more cameras.One dung ball is radiocontrolled and cantravel without any visible movingparts. With the action covered fromevery angle, it's time to see what thiselephant family gets up to.The babies must learn the rules ofbehavior at an earlyage. Wrestling older siblings is afavoritepastime. They learn their own strengthand crucially how to play nicely witheach other.It's the older elephants who make surethey don't cross theline. It takes a few years beforethey're big enough to do realdamage. But as they get older, they needto be reigned in. Those who overstep themark soon knowit. The rules are strict for everyonewhen the family is on the move. Tofollow them, Spy Egret and Dunkham joinforces. For their own safety, the babiesmust stay next to their mothers in thecenter of the[Music]herd. The elephants are heading to the[Music]swamp, a place to cool off as the dayheats up.But the mud can be treacherous andbabies must only enter with theirmums. But this little one\",\n",
       " \"of the[Music]herd. The elephants are heading to the[Music]swamp, a place to cool off as the dayheats up.But the mud can be treacherous andbabies must only enter with theirmums. But this little one seems to haveforgotten therules. Chasing egrets isirresistible. But as the herd enter theswamp, the baby is being left behind.Realizing his predicament, he looks forhis mother and thinks he's foundher. He tags along as the group headinto theswamp, but he's following the wrong[Applause]elephant. With his mother nowhere to beseen, he's lost in a confusion of trunksandlegs. The elephants head into the swampwithout him.The baby is now alone and afraid[Music]while his herd appear to have forgottenhim. He can smell that his mother is outthere somewhere.[Music]But entering the swamp alone could bedeadly for one so[Music]small. He's really starting to panicnow.His mother isinexperienced. She's only just realizedher[Music]mistake. Both will have learned fromwhat[Music]happened. He won't misbehave\",\n",
       " \"for one so[Music]small. He's really starting to panicnow.His mother isinexperienced. She's only just realizedher[Music]mistake. Both will have learned fromwhat[Music]happened. He won't misbehave while thefamily are traveling again.[Music]\"]"
      ]
     },
     "execution_count": 26,
     "metadata": {},
     "output_type": "execute_result"
    }
   ],
   "source": [
    "chunk = splitter.split_text(transcript)\n",
    "chunk\n"
   ]
  },
  {
   "cell_type": "code",
   "execution_count": 28,
   "id": "8f989d72",
   "metadata": {},
   "outputs": [],
   "source": [
    "vector_store = FAISS.from_texts(chunk,embedding)"
   ]
  },
  {
   "cell_type": "code",
   "execution_count": 29,
   "id": "964134cf",
   "metadata": {},
   "outputs": [],
   "source": [
    "retriever = vector_store.as_retriever(search_type = 'similarity', search_kwargs={\"k\":4})\n"
   ]
  },
  {
   "cell_type": "code",
   "execution_count": 30,
   "id": "0101875d",
   "metadata": {},
   "outputs": [],
   "source": [
    "res =retriever.invoke(\"give me some details about leopard\")\n"
   ]
  },
  {
   "cell_type": "code",
   "execution_count": 31,
   "id": "ea58ffdb",
   "metadata": {},
   "outputs": [
    {
     "data": {
      "text/plain": [
       "[Document(id='ac1204c5-742f-4647-9468-277d3edfad26', metadata={}, page_content=\"But leopards are the most versatile ofall the big cats. Adept at finding coverin the most unpromising[Music][Music]places. The steep walls of the gully arenow her cover.for anambush. The male puku is close enough,but he's too big totackle. She needs to slip past himwithout being seen.If he spots her, he'll blow her cover.[Music]Slowly doesit. To succeed here, she needs to findprey grazing close to theedge or better still in the gullyitself.Frustration. Success would have savedoff hunger for a week.[Music]But while there's prey around, there's[Music]hope. Peeking over the top is a risk,but it's the quickest way to find a newtarget.[Music][Music][Music][Applause]A burst of speed of 65 kilometers anhour and it's all over in less than 6seconds. Except it[Music]isn't. Dazed and disorientated, theimpala makes a miraculous escape.Somewhere along this seemingly barrenstretch of sand, there isfood in great[Music]quantity. Capefurs. There are around 10,000 of themhere.Adult seals are large\"),\n",
       " Document(id='dfdc8d04-f3ff-4bea-9e99-d4baff0f4096', metadata={}, page_content=\"Its entire head acts as anamplifier that picks up vibrationsthrough the sand. So to locate prey onthe surface of the dune, it hasparadoxically to thrust its face intothedune.Termites not easy to catch when you're[Music]blind. Far better to go into stealthmode. Once below the sand, it can detectthe slightestmovement, allowing it to strike withpinpoint accuracy.Well, most of the[Music]time. It can travel a kilometer a nightin search of itsdinner. And right now, it has justdetected its main course.Little wonder it's sometimes called theshark of thedunes. The lions are surrounded bywilderbeast on their annualmigration. A quarter ton bull would makea good meal for all 10 of the pride.But even though charm is an experiencedhunter, most attempts end in failure.Charm uses her hind legs to knock thewilderbeast off balance.[Music]Wow. Heat.[Music][Music]The smallest cubs won't be able to catchfood for themselves for another 12months. Their evergrowing appetites meanthat Charm and Sienna have to\"),\n",
       " Document(id='263f00ef-2c1f-4656-a0e8-5426a97776e5', metadata={}, page_content=\"off balance.[Music]Wow. Heat.[Music][Music]The smallest cubs won't be able to catchfood for themselves for another 12months. Their evergrowing appetites meanthat Charm and Sienna have to huntaround theclock. The females are often forced tohead outalone. Tonight, it's Sienna's turn.[Music]Sunrise. Sienna is seriouslyinjured. She's too weak to move.A lone lion is always at risk of attackby buffalo,hyenas, even other lion prides.[Music][Music]It'sevening and Siona hasn't returned to her[Music]family. Now everything depends on charm.Heat. Heat.[Music]Comeon. Careful.[Music]For many years, Blacktip has lived inpeaceful coexistence with hermother, each with enough territory tosurvive.five. But Blacktip's pack has grownhuge. It's now 30strong. For the first time, she needsmore territory if she's to feed hergrowing family.Normally, a daughter would not invadeher mother's territory.However, with hyenas ruling to thesouth and humans having taken thehunting lands to thewest, Blacktip has\"),\n",
       " Document(id='0ccf02b5-229c-4e3f-906d-298e0f271e31', metadata={}, page_content=\"mother could wishfor. They share roles, including sentryduty.It demands concentration and it's easyto losefocus. And sometimes it's good to havesomeone watching yourback. Being a sentry is a risky businessas they are easy targets forpredators. But with young pups toprotect, they take greater risks byclimbing higher. Here they can seepredators earlier but are vulnerable tobirds ofprey. Their self-sacrifice is about tobe[Music]tested. But this is no ordinary cobra.It's a spycobra. With no regard for her ownsafety, she prepares to face the snake.[Music][Applause]She reacts as she would to the realthing, bravely protecting the colonywith no thought for[Music]herself.Her aim is to harass the snake intoleaving. But with spy snake holding itsground, the mircat calls forreinforcements. This is where fraternitycomes into its own.[Music]An intimidating wall of mircats face upto spy[Music]cobra. They push their luck as far asthey dare, golding the snake to strike.[Music]Real snakes tie are\")]"
      ]
     },
     "execution_count": 31,
     "metadata": {},
     "output_type": "execute_result"
    }
   ],
   "source": [
    "res"
   ]
  },
  {
   "cell_type": "code",
   "execution_count": 32,
   "id": "dd9c414b",
   "metadata": {},
   "outputs": [
    {
     "name": "stdout",
     "output_type": "stream",
     "text": [
      "But leopards are the most versatile ofall the big cats. Adept at finding coverin the most unpromising[Music][Music]places. The steep walls of the gully arenow her cover.for anambush. The male puku is close enough,but he's too big totackle. She needs to slip past himwithout being seen.If he spots her, he'll blow her cover.[Music]Slowly doesit. To succeed here, she needs to findprey grazing close to theedge or better still in the gullyitself.Frustration. Success would have savedoff hunger for a week.[Music]But while there's prey around, there's[Music]hope. Peeking over the top is a risk,but it's the quickest way to find a newtarget.[Music][Music][Music][Applause]A burst of speed of 65 kilometers anhour and it's all over in less than 6seconds. Except it[Music]isn't. Dazed and disorientated, theimpala makes a miraculous escape.Somewhere along this seemingly barrenstretch of sand, there isfood in great[Music]quantity. Capefurs. There are around 10,000 of themhere.Adult seals are large\n",
      "Its entire head acts as anamplifier that picks up vibrationsthrough the sand. So to locate prey onthe surface of the dune, it hasparadoxically to thrust its face intothedune.Termites not easy to catch when you're[Music]blind. Far better to go into stealthmode. Once below the sand, it can detectthe slightestmovement, allowing it to strike withpinpoint accuracy.Well, most of the[Music]time. It can travel a kilometer a nightin search of itsdinner. And right now, it has justdetected its main course.Little wonder it's sometimes called theshark of thedunes. The lions are surrounded bywilderbeast on their annualmigration. A quarter ton bull would makea good meal for all 10 of the pride.But even though charm is an experiencedhunter, most attempts end in failure.Charm uses her hind legs to knock thewilderbeast off balance.[Music]Wow. Heat.[Music][Music]The smallest cubs won't be able to catchfood for themselves for another 12months. Their evergrowing appetites meanthat Charm and Sienna have to\n",
      "off balance.[Music]Wow. Heat.[Music][Music]The smallest cubs won't be able to catchfood for themselves for another 12months. Their evergrowing appetites meanthat Charm and Sienna have to huntaround theclock. The females are often forced tohead outalone. Tonight, it's Sienna's turn.[Music]Sunrise. Sienna is seriouslyinjured. She's too weak to move.A lone lion is always at risk of attackby buffalo,hyenas, even other lion prides.[Music][Music]It'sevening and Siona hasn't returned to her[Music]family. Now everything depends on charm.Heat. Heat.[Music]Comeon. Careful.[Music]For many years, Blacktip has lived inpeaceful coexistence with hermother, each with enough territory tosurvive.five. But Blacktip's pack has grownhuge. It's now 30strong. For the first time, she needsmore territory if she's to feed hergrowing family.Normally, a daughter would not invadeher mother's territory.However, with hyenas ruling to thesouth and humans having taken thehunting lands to thewest, Blacktip has\n",
      "mother could wishfor. They share roles, including sentryduty.It demands concentration and it's easyto losefocus. And sometimes it's good to havesomeone watching yourback. Being a sentry is a risky businessas they are easy targets forpredators. But with young pups toprotect, they take greater risks byclimbing higher. Here they can seepredators earlier but are vulnerable tobirds ofprey. Their self-sacrifice is about tobe[Music]tested. But this is no ordinary cobra.It's a spycobra. With no regard for her ownsafety, she prepares to face the snake.[Music][Applause]She reacts as she would to the realthing, bravely protecting the colonywith no thought for[Music]herself.Her aim is to harass the snake intoleaving. But with spy snake holding itsground, the mircat calls forreinforcements. This is where fraternitycomes into its own.[Music]An intimidating wall of mircats face upto spy[Music]cobra. They push their luck as far asthey dare, golding the snake to strike.[Music]Real snakes tie are\n"
     ]
    }
   ],
   "source": [
    "for r in res:\n",
    "    print(r.page_content)"
   ]
  },
  {
   "cell_type": "markdown",
   "id": "64cd9ef8",
   "metadata": {},
   "source": [
    "## Chain\n"
   ]
  },
  {
   "cell_type": "code",
   "execution_count": 42,
   "id": "dcd127c7",
   "metadata": {},
   "outputs": [],
   "source": [
    "from langchain_core.runnables import RunnableParallel,RunnablePassthrough,RunnableLambda\n",
    "from langchain_core.output_parsers import StrOutputParser"
   ]
  },
  {
   "cell_type": "code",
   "execution_count": 45,
   "id": "c1498e44",
   "metadata": {},
   "outputs": [],
   "source": [
    "def format_docs(retrieve_docs):\n",
    "    context_text = \"\\n\\n\".join(doc.page_content for doc in retrieve_docs)\n",
    "    return context_text"
   ]
  },
  {
   "cell_type": "code",
   "execution_count": 46,
   "id": "ee9200f5",
   "metadata": {},
   "outputs": [],
   "source": [
    "parellel_chain = RunnableParallel({\n",
    "    'context': retriever | RunnableLambda(format_docs),\n",
    "    'question' : RunnablePassthrough()\n",
    "})"
   ]
  },
  {
   "cell_type": "code",
   "execution_count": 50,
   "id": "41a0245b",
   "metadata": {},
   "outputs": [
    {
     "data": {
      "text/plain": [
       "{'context': \"for one so[Music]small. He's really starting to panicnow.His mother isinexperienced. She's only just realizedher[Music]mistake. Both will have learned fromwhat[Music]happened. He won't misbehave while thefamily are traveling again.[Music]\\n\\nof the[Music]herd. The elephants are heading to the[Music]swamp, a place to cool off as the dayheats up.But the mud can be treacherous andbabies must only enter with theirmums. But this little one seems to haveforgotten therules. Chasing egrets isirresistible. But as the herd enter theswamp, the baby is being left behind.Realizing his predicament, he looks forhis mother and thinks he's foundher. He tags along as the group headinto theswamp, but he's following the wrong[Applause]elephant. With his mother nowhere to beseen, he's lost in a confusion of trunksandlegs. The elephants head into the swampwithout him.The baby is now alone and afraid[Music]while his herd appear to have forgottenhim. He can smell that his mother is outthere somewhere.[Music]But entering the swamp alone could bedeadly for one so[Music]small. He's really starting to panicnow.His mother isinexperienced. She's only just realizedher[Music]mistake. Both will have learned fromwhat[Music]happened. He won't misbehave\\n\\nmassive bull is not giving[Music]up. Against the odds and the full weightof the lions, he regains hisfeet. And it is now that the tablesturn. The lions are exhausted.After a 20inut struggle, only the bullhas the energy to finish the fight.[Music]In such exposed and extremeconditions, the challenge for predatorsand their prey is at its mostintense. The temperature has reached50°.Still, Black Kip pushes her pack on in[Music]pursuit. They're closing in just akilometer behind Tate.[Music]But finally the heat is just too[Music]much. Blacktip is forced to call a halt.But danger isapproaching. Heat. Heat.The pack hasscattered and now the lions will try topick off the puppies.There's only one adult with thepups. That won't be enough to save them.But this might[Music]Buffaloos and lions are always inconflict.[Music]To charge in alone is veryunusual, but it certainly saved the[Music]pups. As they mature, young males beginto explore the boundaries of the pride'sterritory. Red has ventured out\\n\\nare still out inthe sun.This tree could shade a couple ofhundred if they packed tight.[Music]It's bumperto-bumper[Music]parking. Within an hour or so, all mustfind shade of some sort if they're tosurvive.[Music][Music][Music][Applause]safe.But the future for Aldabra's tortoisesis far fromcertain. The climate is changing. Sealevels are rising. And Aldabra'stortoises may soon have to find a newrefuge ordrown. Lions will normally avoid huntingin suchheat, but they're also opportunists.[Music]The lions will need to bring him downquickly before they overheat.[Music]Wow.[Music]Even away from the herd, a bull is aformidableopponent. He could gore and kill a lion.[Music][Music]Heat.[Music]Heat.[Music]Close to overheating, they finallysucceed in bringing him to the ground.[Music][Music]But the massive bull is not giving[Music]up. Against the odds and the full weightof the lions, he regains hisfeet. And it is now that the tablesturn. The lions are exhausted.After a 20inut struggle, only the\",\n",
       " 'question': 'can you summerize video'}"
      ]
     },
     "execution_count": 50,
     "metadata": {},
     "output_type": "execute_result"
    }
   ],
   "source": [
    "parellel_chain.invoke(\"can you summerize video\")"
   ]
  },
  {
   "cell_type": "code",
   "execution_count": 52,
   "id": "139f7009",
   "metadata": {},
   "outputs": [],
   "source": [
    "from langchain.prompts import PromptTemplate\n",
    "\n",
    "prompt = PromptTemplate(template='You are chatbot assistant, who answer question from the given context \\n {context} \\n question:{question}',\n",
    "                        input_variables=['context','question'])\n"
   ]
  },
  {
   "cell_type": "code",
   "execution_count": 53,
   "id": "4b874603",
   "metadata": {},
   "outputs": [],
   "source": [
    "chain = parellel_chain | prompt | model | StrOutputParser()"
   ]
  },
  {
   "cell_type": "code",
   "execution_count": 54,
   "id": "cc01e251",
   "metadata": {},
   "outputs": [
    {
     "data": {
      "text/plain": [
       "\"Here is a summary of the video:\\n\\nA baby elephant gets separated from its mother and the herd as they head into a swamp. The baby is distracted by egrets and doesn't follow the rules of staying close to its mother. Realizing he's lost, he panics and wanders into the swamp alone, which is dangerous. The mother, being inexperienced, realizes her mistake. The video also shows how baby elephants learn the rules of behavior, like playing nicely with siblings and staying close to their mothers when the family is on the move. Spy cameras disguised as animals, including a dung ball and an egret, are used to capture the elephants' behavior. The video also shows meerkats taking sentry duty to protect their pups from predators. They even bravely face a spy cobra, reacting as they would to a real threat, and are eventually joined by the rest of the meerkat colony.\""
      ]
     },
     "execution_count": 54,
     "metadata": {},
     "output_type": "execute_result"
    }
   ],
   "source": [
    "chain.invoke('can you summerize the video')"
   ]
  },
  {
   "cell_type": "code",
   "execution_count": null,
   "id": "355ebe9d",
   "metadata": {},
   "outputs": [],
   "source": []
  }
 ],
 "metadata": {
  "kernelspec": {
   "display_name": ".lan (3.12.5)",
   "language": "python",
   "name": "python3"
  },
  "language_info": {
   "codemirror_mode": {
    "name": "ipython",
    "version": 3
   },
   "file_extension": ".py",
   "mimetype": "text/x-python",
   "name": "python",
   "nbconvert_exporter": "python",
   "pygments_lexer": "ipython3",
   "version": "3.12.5"
  }
 },
 "nbformat": 4,
 "nbformat_minor": 5
}
