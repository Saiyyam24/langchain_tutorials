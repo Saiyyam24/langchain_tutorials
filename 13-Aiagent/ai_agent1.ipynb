{
 "cells": [
  {
   "cell_type": "code",
   "execution_count": 2,
   "id": "4ed63e23",
   "metadata": {},
   "outputs": [],
   "source": [
    "from langchain_google_genai import ChatGoogleGenerativeAI\n",
    "from langchain_core.tools import tool\n",
    "import requests\n"
   ]
  },
  {
   "cell_type": "code",
   "execution_count": 7,
   "id": "2d1d643e",
   "metadata": {},
   "outputs": [],
   "source": [
    "from langchain_community.tools import DuckDuckGoSearchRun\n",
    "\n",
    "search_tool = DuckDuckGoSearchRun()\n",
    "result = search_tool.invoke(\"top news in India today\")"
   ]
  },
  {
   "cell_type": "code",
   "execution_count": 8,
   "id": "a96c67eb",
   "metadata": {},
   "outputs": [
    {
     "data": {
      "text/plain": [
       "\"16 hours ago · Get the latest updates and breaking news from India , including politics, elections, government, business, technology, and Bollywood. 1 day ago · Today 's News Online: Read the Latest News Updates online related to India , World and US business and economy. Also, get the breaking news on politics, auto, technology, mutual funds and more on mint. Read all India news and breaking news today from India on politics, business, entertainment, technology, sports, lifestyle and more at CNBC TV18. Stay informed with the latest news today . Get breaking news , live updates, and top headlines from India and around the world on News24 Here are the top national and international news updates for October 9, covering key developments in politics, economy, diplomacy, and global events.\""
      ]
     },
     "execution_count": 8,
     "metadata": {},
     "output_type": "execute_result"
    }
   ],
   "source": [
    "result"
   ]
  },
  {
   "cell_type": "code",
   "execution_count": 9,
   "id": "fe1b2501",
   "metadata": {},
   "outputs": [],
   "source": [
    "import os\n",
    "gemini_key = os.getenv('Gemini_api_key')\n",
    "llm = ChatGoogleGenerativeAI(\n",
    "    model='gemini-2.0-flash',\n",
    "    api_key=gemini_key\n",
    ")"
   ]
  },
  {
   "cell_type": "code",
   "execution_count": 10,
   "id": "52a47f22",
   "metadata": {},
   "outputs": [
    {
     "data": {
      "text/plain": [
       "AIMessage(content='Hi there! How can I help you today?', additional_kwargs={}, response_metadata={'prompt_feedback': {'block_reason': 0, 'safety_ratings': []}, 'finish_reason': 'STOP', 'safety_ratings': []}, id='run--8468775e-e235-4ee2-921a-5e7a9945dbaa-0', usage_metadata={'input_tokens': 1, 'output_tokens': 11, 'total_tokens': 12, 'input_token_details': {'cache_read': 0}})"
      ]
     },
     "execution_count": 10,
     "metadata": {},
     "output_type": "execute_result"
    }
   ],
   "source": [
    "llm.invoke('hi')"
   ]
  },
  {
   "cell_type": "code",
   "execution_count": 11,
   "id": "c7d2e0cb",
   "metadata": {},
   "outputs": [],
   "source": [
    "from langchain.agents import create_react_agent,AgentExecutor\n",
    "from langchain import hub "
   ]
  },
  {
   "cell_type": "code",
   "execution_count": 12,
   "id": "f171ecbd",
   "metadata": {},
   "outputs": [],
   "source": [
    "# step2 : pull the ReAct prompt from langchain hub\n",
    "prompt = hub.pull(\"hwchase17/react\") # pull standard ReAct agent prompt"
   ]
  },
  {
   "cell_type": "code",
   "execution_count": 17,
   "id": "b3431eef",
   "metadata": {},
   "outputs": [],
   "source": [
    "# step3:create ReAct agent manually eith the pull prompt\n",
    "agent = create_react_agent(\n",
    "    llm=llm,\n",
    "    tools = [search_tool],\n",
    "    prompt=prompt\n",
    ")"
   ]
  },
  {
   "cell_type": "code",
   "execution_count": null,
   "id": "0c71bb2d",
   "metadata": {},
   "outputs": [],
   "source": [
    "# step 4: wrap it with agentExecutor\n",
    "agent_executor = AgentExecutor(\n",
    "    agent=agent,\n",
    "    tools=[search_tool],\n",
    "    verbose=True\n",
    ")"
   ]
  },
  {
   "cell_type": "code",
   "execution_count": 21,
   "id": "de6995c9",
   "metadata": {},
   "outputs": [
    {
     "name": "stdout",
     "output_type": "stream",
     "text": [
      "\n",
      "\n",
      "\u001b[1m> Entering new AgentExecutor chain...\u001b[0m\n",
      "\u001b[32;1m\u001b[1;3mI need to find the capital of India and then find its population.\n",
      "Action: duckduckgo_search\n",
      "Action Input: \"capital of India\"\u001b[0m\u001b[36;1m\u001b[1;3m1 week ago - New Delhi is the capital of India and a part of the National Capital Territory of Delhi (NCT). New Delhi is the seat of all three branches of the Government of India, hosting the Rashtrapati Bhavan (Presidential Palace), Sansad Bhavan (Parliament House), and the Supreme Court. August 21, 2025 - India is a federal constitutional republic governed under a parliamentary system consisting of 28 states and 8 union territories. All states, as well as the union territories of Jammu and Kashmir, Puducherry and the National Capital Territory of Delhi , have elected legislatures and governments, ... June 10, 2025 - This is a list of locations which have served as capital cities in India. The current capital city is New Delhi , which replaced Calcutta in 1911. Rajgir: Initial capital of the Magadha Empire from 6th century BCE to 460 BCE, called Girivraj at the time. Pataliputra: Capital of the Magadha Empire ... 1 day ago - New Delhi is jointly administered by the federal government of India and the local government of Delhi, and serves as the capital of the nation as well as the NCT of Delhi. Delhi is also the centre of the National Capital Region, which is an \"interstate regional planning\" area created in 1985. July 1, 2025 - Discover whether Delhi or New Delhi is the true capital of India . Understand their historical roots, administrative differences, and constitutional roles in this detailed and informative comparison.\u001b[0m\u001b[32;1m\u001b[1;3mThe capital of India is New Delhi. Now I need to find the population of New Delhi.\n",
      "Action: duckduckgo_search\n",
      "Action Input: \"population of New Delhi\"\u001b[0m\u001b[36;1m\u001b[1;3mNew Delhi is a municipality within the NCT, administered by the New Delhi Municipal Council (NDMC), which covers mostly Lutyens' Delhi and a few adjacent areas. The municipal area is part of a larger administrative district, the New Delhi district. Delhi is the fifth most populous city in the world and the largest city in India area-wise. It has an estimated 2016 population of 18.6 million and a projected 2025 population of 34.7 million, according to the UN World Urbanization Prospects. 3 days ago · New Delhi , national capital of India. It is situated in the north-central part of the country on the west bank of the Yamuna River, adjacent to and just south of Delhi city (Old Delhi ) and within the Delhi national capital territory. Learn more about New Delhi in this article. Chart and table of population level and growth rate for the Delhi , India metro area from 1950 to 2025. Population of New Delhi The population in New Delhi for 2025 is 9 879 172. New Delhi is one of 46 cities in India and ranks 2 in the India population. New Delhi is the capital India. New Delhi city population data has been obtained from public sources.\u001b[0m\u001b[32;1m\u001b[1;3mFinal Answer: The capital of India is New Delhi, and its population for 2025 is projected to be 9,879,172.\u001b[0m\n",
      "\n",
      "\u001b[1m> Finished chain.\u001b[0m\n",
      "{'input': 'what is the capital of India, and whats the population of the capital', 'output': 'The capital of India is New Delhi, and its population for 2025 is projected to be 9,879,172.'}\n"
     ]
    }
   ],
   "source": [
    "response = agent_executor.invoke({\"input\":\"what is the capital of India, and whats the population of the capital\"})\n",
    "print(response)"
   ]
  },
  {
   "cell_type": "code",
   "execution_count": null,
   "id": "ef3666bb",
   "metadata": {},
   "outputs": [],
   "source": []
  }
 ],
 "metadata": {
  "kernelspec": {
   "display_name": ".lan (3.12.5)",
   "language": "python",
   "name": "python3"
  },
  "language_info": {
   "codemirror_mode": {
    "name": "ipython",
    "version": 3
   },
   "file_extension": ".py",
   "mimetype": "text/x-python",
   "name": "python",
   "nbconvert_exporter": "python",
   "pygments_lexer": "ipython3",
   "version": "3.12.5"
  }
 },
 "nbformat": 4,
 "nbformat_minor": 5
}
